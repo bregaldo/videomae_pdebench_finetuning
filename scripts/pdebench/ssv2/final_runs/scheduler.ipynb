{
 "cells": [
  {
   "cell_type": "code",
   "execution_count": 1,
   "metadata": {},
   "outputs": [],
   "source": [
    "import os, sys"
   ]
  },
  {
   "cell_type": "code",
   "execution_count": 2,
   "metadata": {},
   "outputs": [],
   "source": [
    "scripts_name_template = 'finetune_turb_template.sh'\n",
    "out_name_base = 'ssv2_b_turb_512_'\n",
    "\n",
    "ntrains_rand = ['0.01', '0.02', '0.04', '0.06', '0.08']\n",
    "ntrains_turb = ['0.2']"
   ]
  },
  {
   "cell_type": "code",
   "execution_count": 3,
   "metadata": {},
   "outputs": [],
   "source": [
    "with open(scripts_name_template, 'r') as f:\n",
    "    finetune_script_template = f.read()"
   ]
  },
  {
   "cell_type": "code",
   "execution_count": 8,
   "metadata": {},
   "outputs": [
    {
     "name": "stdout",
     "output_type": "stream",
     "text": [
      "Submitted batch job 2692830\n"
     ]
    }
   ],
   "source": [
    "for ntrain in ntrains_turb:\n",
    "    finetune_script = finetune_script_template.replace('{{ntrain}}', ntrain)\n",
    "    with open(f'jobs/{out_name_base}{ntrain}.sh', 'w') as f:\n",
    "        f.write(finetune_script)\n",
    "    os.system(f'sbatch jobs/{out_name_base}{ntrain}.sh')"
   ]
  },
  {
   "cell_type": "code",
   "execution_count": null,
   "metadata": {},
   "outputs": [],
   "source": []
  }
 ],
 "metadata": {
  "kernelspec": {
   "display_name": "videomae",
   "language": "python",
   "name": "python3"
  },
  "language_info": {
   "codemirror_mode": {
    "name": "ipython",
    "version": 3
   },
   "file_extension": ".py",
   "mimetype": "text/x-python",
   "name": "python",
   "nbconvert_exporter": "python",
   "pygments_lexer": "ipython3",
   "version": "3.10.10"
  },
  "orig_nbformat": 4
 },
 "nbformat": 4,
 "nbformat_minor": 2
}

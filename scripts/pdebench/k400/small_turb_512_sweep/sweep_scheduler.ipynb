{
 "cells": [
  {
   "cell_type": "code",
   "execution_count": 8,
   "metadata": {},
   "outputs": [],
   "source": [
    "import wandb\n",
    "import json\n",
    "import yaml\n",
    "import os, sys"
   ]
  },
  {
   "cell_type": "code",
   "execution_count": 9,
   "metadata": {},
   "outputs": [],
   "source": [
    "wb_config_name = 'wb_config_3.yaml'\n",
    "wb_project = 'videomae_finetuning'\n",
    "scripts_name_template = 'finetune_3'\n",
    "\n",
    "sweep_id_dict_name = 'sweep_id_dict.json'"
   ]
  },
  {
   "cell_type": "code",
   "execution_count": 10,
   "metadata": {},
   "outputs": [],
   "source": [
    "with open(sweep_id_dict_name) as f:\n",
    "    sweep_dict = json.load(f)\n",
    "    if wb_config_name in sweep_dict:\n",
    "        sweep_id = sweep_dict[wb_config_name]\n",
    "    else:\n",
    "        # Initialize sweep by passing in config\n",
    "        config = yaml.load(open(wb_config_name), Loader=yaml.Loader)\n",
    "        sweep_id = wandb.sweep(sweep=config,\n",
    "                               project=wb_project,\n",
    "                               entity='flatiron-scipt')\n",
    "        sweep_dict[wb_config_name] = sweep_id\n",
    "        with open(sweep_id_dict_name, 'w') as f:\n",
    "            json.dump(sweep_dict, f, indent=4)\n",
    "        print(f\"New sweep_id created for config {wb_config_name}: {sweep_id}. Added to the sweep_ids dictionary!\")\n",
    "        os._exit(00)"
   ]
  },
  {
   "cell_type": "code",
   "execution_count": 11,
   "metadata": {},
   "outputs": [],
   "source": [
    "with open('finetune_template.sh', 'r') as f:\n",
    "    finetune_script_template = f.read()"
   ]
  },
  {
   "cell_type": "code",
   "execution_count": 13,
   "metadata": {},
   "outputs": [
    {
     "name": "stdout",
     "output_type": "stream",
     "text": [
      "Submitted batch job 2639401\n",
      "Submitted batch job 2639402\n",
      "Submitted batch job 2639403\n",
      "Submitted batch job 2639404\n",
      "Submitted batch job 2639405\n",
      "Submitted batch job 2639406\n",
      "Submitted batch job 2639407\n",
      "Submitted batch job 2639408\n",
      "Submitted batch job 2639409\n",
      "Submitted batch job 2639410\n",
      "Submitted batch job 2639411\n",
      "Submitted batch job 2639412\n",
      "Submitted batch job 2639413\n",
      "Submitted batch job 2639414\n",
      "Submitted batch job 2639415\n",
      "Submitted batch job 2639416\n",
      "Submitted batch job 2639417\n",
      "Submitted batch job 2639418\n",
      "Submitted batch job 2639419\n",
      "Submitted batch job 2639420\n"
     ]
    }
   ],
   "source": [
    "run_id_start = 0\n",
    "nb_runs = 20\n",
    "for run_id in range(run_id_start, run_id_start + nb_runs):\n",
    "    finetune_script = finetune_script_template.replace('{{run_id}}', str(run_id))\n",
    "    finetune_script = finetune_script.replace('{{sweep_id}}', sweep_id)\n",
    "    finetune_script = finetune_script.replace('{{script_name}}', scripts_name_template)\n",
    "    with open(f'jobs/{scripts_name_template}_{run_id}.sh', 'w') as f:\n",
    "        f.write(finetune_script)\n",
    "    os.system(f'sbatch jobs/{scripts_name_template}_{run_id}.sh')"
   ]
  },
  {
   "cell_type": "code",
   "execution_count": null,
   "metadata": {},
   "outputs": [],
   "source": []
  }
 ],
 "metadata": {
  "kernelspec": {
   "display_name": "videomae",
   "language": "python",
   "name": "python3"
  },
  "language_info": {
   "codemirror_mode": {
    "name": "ipython",
    "version": 3
   },
   "file_extension": ".py",
   "mimetype": "text/x-python",
   "name": "python",
   "nbconvert_exporter": "python",
   "pygments_lexer": "ipython3",
   "version": "3.10.10"
  },
  "orig_nbformat": 4
 },
 "nbformat": 4,
 "nbformat_minor": 2
}

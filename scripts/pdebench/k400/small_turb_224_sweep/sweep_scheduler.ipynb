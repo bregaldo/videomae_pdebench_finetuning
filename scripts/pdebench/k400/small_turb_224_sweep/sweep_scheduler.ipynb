{
 "cells": [
  {
   "cell_type": "code",
   "execution_count": 1,
   "metadata": {},
   "outputs": [],
   "source": [
    "import wandb\n",
    "import json\n",
    "import yaml\n",
    "import os, sys"
   ]
  },
  {
   "cell_type": "code",
   "execution_count": 2,
   "metadata": {},
   "outputs": [],
   "source": [
    "wb_config_name = 'wb_config_1.yaml'\n",
    "wb_project = 'videomae_finetuning'\n",
    "\n",
    "sweep_id_dict_name = 'sweep_id_dict.json'"
   ]
  },
  {
   "cell_type": "code",
   "execution_count": 3,
   "metadata": {},
   "outputs": [],
   "source": [
    "with open(sweep_id_dict_name) as f:\n",
    "    sweep_dict = json.load(f)\n",
    "    if wb_config_name in sweep_dict:\n",
    "        sweep_id = sweep_dict[wb_config_name]\n",
    "    else:\n",
    "        # Initialize sweep by passing in config\n",
    "        config = yaml.load(open(wb_config_name), Loader=yaml.Loader)\n",
    "        sweep_id = wandb.sweep(sweep=config,\n",
    "                               project=wb_project,\n",
    "                               entity='flatiron-scipt')\n",
    "        sweep_dict[wb_config_name] = sweep_id\n",
    "        with open(sweep_id_dict_name, 'w') as f:\n",
    "            json.dump(sweep_dict, f, indent=4)\n",
    "        print(f\"New sweep_id created for config {wb_config_name}: {sweep_id}. Added to the sweep_ids dictionary!\")\n",
    "        sys.exit(0)"
   ]
  },
  {
   "cell_type": "code",
   "execution_count": 4,
   "metadata": {},
   "outputs": [],
   "source": [
    "with open('finetune_template.sh', 'r') as f:\n",
    "    finetune_script_template = f.read()"
   ]
  },
  {
   "cell_type": "code",
   "execution_count": 28,
   "metadata": {},
   "outputs": [
    {
     "name": "stdout",
     "output_type": "stream",
     "text": [
      "Submitted batch job 2620649\n"
     ]
    }
   ],
   "source": [
    "run_id_start = 0\n",
    "nb_runs = 50\n",
    "for run_id in range(run_id_start, run_id_start + nb_runs):\n",
    "    finetune_script = finetune_script_template.replace('{{run_id}}', str(run_id))\n",
    "    finetune_script = finetune_script.replace('{{sweep_id}}', sweep_id)\n",
    "    with open(f'jobs/finetune_{run_id}.sh', 'w') as f:\n",
    "        f.write(finetune_script)\n",
    "    os.system(f'sbatch jobs/finetune_{run_id}.sh')"
   ]
  }
 ],
 "metadata": {
  "kernelspec": {
   "display_name": "videomae",
   "language": "python",
   "name": "python3"
  },
  "language_info": {
   "codemirror_mode": {
    "name": "ipython",
    "version": 3
   },
   "file_extension": ".py",
   "mimetype": "text/x-python",
   "name": "python",
   "nbconvert_exporter": "python",
   "pygments_lexer": "ipython3",
   "version": "3.10.10"
  },
  "orig_nbformat": 4
 },
 "nbformat": 4,
 "nbformat_minor": 2
}

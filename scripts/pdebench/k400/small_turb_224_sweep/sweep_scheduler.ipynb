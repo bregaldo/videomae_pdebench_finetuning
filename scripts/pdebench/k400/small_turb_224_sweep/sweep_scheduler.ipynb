{
 "cells": [
  {
   "cell_type": "code",
   "execution_count": 6,
   "metadata": {},
   "outputs": [],
   "source": [
    "import wandb\n",
    "import json\n",
    "import yaml\n",
    "import os, sys"
   ]
  },
  {
   "cell_type": "code",
   "execution_count": 7,
   "metadata": {},
   "outputs": [],
   "source": [
    "wb_config_name = 'wb_config_1.yaml'\n",
    "wb_project = 'videomae_finetuning'\n",
    "\n",
    "sweep_id_dict_name = 'sweep_id_dict.json'"
   ]
  },
  {
   "cell_type": "code",
   "execution_count": 8,
   "metadata": {},
   "outputs": [],
   "source": [
    "with open(sweep_id_dict_name) as f:\n",
    "    sweep_dict = json.load(f)\n",
    "    if wb_config_name in sweep_dict:\n",
    "        sweep_id = sweep_dict[wb_config_name]\n",
    "    else:\n",
    "        # Initialize sweep by passing in config\n",
    "        config = yaml.load(open(wb_config_name), Loader=yaml.Loader)\n",
    "        sweep_id = wandb.sweep(sweep=config,\n",
    "                               project=wb_project,\n",
    "                               entity='flatiron-scipt')\n",
    "        sweep_dict[wb_config_name] = sweep_id\n",
    "        with open(sweep_id_dict_name, 'w') as f:\n",
    "            json.dump(sweep_dict, f, indent=4)\n",
    "        print(f\"New sweep_id created for config {wb_config_name}: {sweep_id}. Added to the sweep_ids dictionary!\")\n",
    "        sys.exit(0)"
   ]
  },
  {
   "cell_type": "code",
   "execution_count": 9,
   "metadata": {},
   "outputs": [],
   "source": [
    "with open('finetune_template.sh', 'r') as f:\n",
    "    finetune_script_template = f.read()"
   ]
  },
  {
   "cell_type": "code",
   "execution_count": 5,
   "metadata": {},
   "outputs": [
    {
     "name": "stdout",
     "output_type": "stream",
     "text": [
      "Submitted batch job 2620650\n",
      "Submitted batch job 2620651\n",
      "Submitted batch job 2620652\n",
      "Submitted batch job 2620653\n",
      "Submitted batch job 2620654\n",
      "Submitted batch job 2620655\n",
      "Submitted batch job 2620656\n",
      "Submitted batch job 2620657\n",
      "Submitted batch job 2620658\n",
      "Submitted batch job 2620659\n",
      "Submitted batch job 2620660\n",
      "Submitted batch job 2620661\n",
      "Submitted batch job 2620662\n",
      "Submitted batch job 2620663\n",
      "Submitted batch job 2620664\n",
      "Submitted batch job 2620665\n",
      "Submitted batch job 2620666\n",
      "Submitted batch job 2620667\n",
      "Submitted batch job 2620668\n",
      "Submitted batch job 2620669\n",
      "Submitted batch job 2620670\n",
      "Submitted batch job 2620671\n",
      "Submitted batch job 2620672\n",
      "Submitted batch job 2620673\n",
      "Submitted batch job 2620674\n",
      "Submitted batch job 2620675\n",
      "Submitted batch job 2620676\n",
      "Submitted batch job 2620677\n",
      "Submitted batch job 2620678\n",
      "Submitted batch job 2620679\n",
      "Submitted batch job 2620680\n",
      "Submitted batch job 2620681\n",
      "Submitted batch job 2620682\n",
      "Submitted batch job 2620683\n",
      "Submitted batch job 2620684\n",
      "Submitted batch job 2620685\n",
      "Submitted batch job 2620686\n",
      "Submitted batch job 2620687\n",
      "Submitted batch job 2620688\n",
      "Submitted batch job 2620689\n",
      "Submitted batch job 2620690\n",
      "Submitted batch job 2620691\n",
      "Submitted batch job 2620692\n",
      "Submitted batch job 2620693\n",
      "Submitted batch job 2620694\n",
      "Submitted batch job 2620695\n",
      "Submitted batch job 2620696\n",
      "Submitted batch job 2620697\n",
      "Submitted batch job 2620698\n",
      "Submitted batch job 2620699\n"
     ]
    }
   ],
   "source": [
    "run_id_start = 8\n",
    "nb_runs = 42\n",
    "for run_id in range(run_id_start, run_id_start + nb_runs):\n",
    "    finetune_script = finetune_script_template.replace('{{run_id}}', str(run_id))\n",
    "    finetune_script = finetune_script.replace('{{sweep_id}}', sweep_id)\n",
    "    with open(f'jobs/finetune_{run_id}.sh', 'w') as f:\n",
    "        f.write(finetune_script)\n",
    "    os.system(f'sbatch jobs/finetune_{run_id}.sh')"
   ]
  },
  {
   "cell_type": "code",
   "execution_count": null,
   "metadata": {},
   "outputs": [],
   "source": []
  }
 ],
 "metadata": {
  "kernelspec": {
   "display_name": "videomae",
   "language": "python",
   "name": "python3"
  },
  "language_info": {
   "codemirror_mode": {
    "name": "ipython",
    "version": 3
   },
   "file_extension": ".py",
   "mimetype": "text/x-python",
   "name": "python",
   "nbconvert_exporter": "python",
   "pygments_lexer": "ipython3",
   "version": "3.10.10"
  },
  "orig_nbformat": 4
 },
 "nbformat": 4,
 "nbformat_minor": 2
}

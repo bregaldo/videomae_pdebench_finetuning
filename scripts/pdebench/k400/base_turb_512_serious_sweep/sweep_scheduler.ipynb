{
 "cells": [
  {
   "cell_type": "code",
   "execution_count": 2,
   "metadata": {},
   "outputs": [],
   "source": [
    "import wandb\n",
    "import json\n",
    "import yaml\n",
    "import os, sys"
   ]
  },
  {
   "cell_type": "code",
   "execution_count": 1,
   "metadata": {},
   "outputs": [],
   "source": [
    "wb_config_name = 'wb_config_1.yaml'\n",
    "wb_project = 'videomae_finetuning'\n",
    "scripts_name_template = 'finetune_1'\n",
    "\n",
    "sweep_id_dict_name = 'sweep_id_dict.json'"
   ]
  },
  {
   "cell_type": "code",
   "execution_count": 3,
   "metadata": {},
   "outputs": [],
   "source": [
    "with open(sweep_id_dict_name) as f:\n",
    "    sweep_dict = json.load(f)\n",
    "    if wb_config_name in sweep_dict:\n",
    "        sweep_id = sweep_dict[wb_config_name]\n",
    "    else:\n",
    "        # Initialize sweep by passing in config\n",
    "        config = yaml.load(open(wb_config_name), Loader=yaml.Loader)\n",
    "        sweep_id = wandb.sweep(sweep=config,\n",
    "                               project=wb_project,\n",
    "                               entity='flatiron-scipt')\n",
    "        sweep_dict[wb_config_name] = sweep_id\n",
    "        with open(sweep_id_dict_name, 'w') as f:\n",
    "            json.dump(sweep_dict, f, indent=4)\n",
    "        print(f\"New sweep_id created for config {wb_config_name}: {sweep_id}. Added to the sweep_ids dictionary!\")\n",
    "        os._exit(00)"
   ]
  },
  {
   "cell_type": "code",
   "execution_count": 4,
   "metadata": {},
   "outputs": [],
   "source": [
    "with open('finetune_template.sh', 'r') as f:\n",
    "    finetune_script_template = f.read()"
   ]
  },
  {
   "cell_type": "code",
   "execution_count": 6,
   "metadata": {},
   "outputs": [
    {
     "name": "stdout",
     "output_type": "stream",
     "text": [
      "Submitted batch job 2653046\n",
      "Submitted batch job 2653048\n",
      "Submitted batch job 2653049\n",
      "Submitted batch job 2653050\n",
      "Submitted batch job 2653051\n",
      "Submitted batch job 2653052\n",
      "Submitted batch job 2653053\n",
      "Submitted batch job 2653054\n",
      "Submitted batch job 2653055\n",
      "Submitted batch job 2653056\n",
      "Submitted batch job 2653057\n",
      "Submitted batch job 2653058\n",
      "Submitted batch job 2653059\n",
      "Submitted batch job 2653060\n",
      "Submitted batch job 2653061\n",
      "Submitted batch job 2653062\n",
      "Submitted batch job 2653063\n",
      "Submitted batch job 2653064\n",
      "Submitted batch job 2653065\n",
      "Submitted batch job 2653066\n",
      "Submitted batch job 2653067\n",
      "Submitted batch job 2653068\n",
      "Submitted batch job 2653069\n",
      "Submitted batch job 2653070\n",
      "Submitted batch job 2653071\n",
      "Submitted batch job 2653072\n",
      "Submitted batch job 2653073\n",
      "Submitted batch job 2653074\n",
      "Submitted batch job 2653075\n",
      "Submitted batch job 2653076\n",
      "Submitted batch job 2653077\n",
      "Submitted batch job 2653078\n",
      "Submitted batch job 2653079\n",
      "Submitted batch job 2653080\n",
      "Submitted batch job 2653081\n",
      "Submitted batch job 2653082\n",
      "Submitted batch job 2653083\n",
      "Submitted batch job 2653084\n",
      "Submitted batch job 2653085\n",
      "Submitted batch job 2653086\n",
      "Submitted batch job 2653087\n",
      "Submitted batch job 2653088\n",
      "Submitted batch job 2653089\n",
      "Submitted batch job 2653090\n",
      "Submitted batch job 2653091\n",
      "Submitted batch job 2653092\n",
      "Submitted batch job 2653093\n",
      "Submitted batch job 2653094\n",
      "Submitted batch job 2653095\n",
      "Submitted batch job 2653096\n"
     ]
    }
   ],
   "source": [
    "run_id_start = 0\n",
    "nb_runs = 50\n",
    "for run_id in range(run_id_start, run_id_start + nb_runs):\n",
    "    finetune_script = finetune_script_template.replace('{{run_id}}', str(run_id))\n",
    "    finetune_script = finetune_script.replace('{{sweep_id}}', sweep_id)\n",
    "    finetune_script = finetune_script.replace('{{script_name}}', scripts_name_template)\n",
    "    with open(f'jobs/{scripts_name_template}_{run_id}.sh', 'w') as f:\n",
    "        f.write(finetune_script)\n",
    "    os.system(f'sbatch jobs/{scripts_name_template}_{run_id}.sh')"
   ]
  },
  {
   "cell_type": "code",
   "execution_count": null,
   "metadata": {},
   "outputs": [],
   "source": []
  }
 ],
 "metadata": {
  "kernelspec": {
   "display_name": "videomae",
   "language": "python",
   "name": "python3"
  },
  "language_info": {
   "codemirror_mode": {
    "name": "ipython",
    "version": 3
   },
   "file_extension": ".py",
   "mimetype": "text/x-python",
   "name": "python",
   "nbconvert_exporter": "python",
   "pygments_lexer": "ipython3",
   "version": "3.10.10"
  },
  "orig_nbformat": 4
 },
 "nbformat": 4,
 "nbformat_minor": 2
}

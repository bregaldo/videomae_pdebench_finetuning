{
 "cells": [
  {
   "cell_type": "code",
   "execution_count": 1,
   "metadata": {},
   "outputs": [],
   "source": [
    "import matplotlib.pyplot as plt\n",
    "import numpy as np\n",
    "import sys, os\n",
    "import json\n",
    "sys.path.append('../src/')\n",
    "\n",
    "from datasets import PDEBenchDataset\n",
    "from utils import get_ceph_dir"
   ]
  },
  {
   "cell_type": "code",
   "execution_count": 2,
   "metadata": {},
   "outputs": [],
   "source": [
    "dataset_name = 'compNS_turb'\n",
    "fields = ['Vx', 'Vy', 'density', 'pressure']"
   ]
  },
  {
   "cell_type": "code",
   "execution_count": 3,
   "metadata": {},
   "outputs": [
    {
     "name": "stdout",
     "output_type": "stream",
     "text": [
      "Raw dataset compNS_turb has 1000 samples of shape (512, 512) and 21 timesteps.\n",
      "1000\n"
     ]
    }
   ],
   "source": [
    "dataset = PDEBenchDataset(dataset_name,\n",
    "                          set_type='train',\n",
    "                          split_ratios=(1.0, 0.0, 0.0),\n",
    "                          fields=fields,\n",
    "                          timesteps=21,\n",
    "                          random_start=False,\n",
    "                          shuffle=False)\n",
    "print(len(dataset))"
   ]
  },
  {
   "cell_type": "code",
   "execution_count": 4,
   "metadata": {},
   "outputs": [
    {
     "name": "stdout",
     "output_type": "stream",
     "text": [
      "0\n",
      "100\n",
      "200\n",
      "300\n",
      "400\n",
      "500\n",
      "600\n",
      "700\n",
      "800\n",
      "900\n"
     ]
    }
   ],
   "source": [
    "max_per_field = -np.inf*np.ones(len(fields))\n",
    "min_per_field = np.inf*np.ones(len(fields))\n",
    "mean_per_field = np.zeros(len(fields))\n",
    "mean_std_per_field = np.zeros(len(fields))\n",
    "\n",
    "for idx, data in enumerate(dataset):\n",
    "    if idx % 100 == 0:\n",
    "        print(idx)\n",
    "    for i, field in enumerate(fields):\n",
    "        max_per_field[i] = max(max_per_field[i], data[i].max())\n",
    "        min_per_field[i] = min(min_per_field[i], data[i].min())\n",
    "        mean_per_field[i] += data[i].mean()\n",
    "        mean_std_per_field[i] += data[i].std()\n",
    "\n",
    "for i, field in enumerate(fields):\n",
    "    mean_per_field[i] /= len(dataset)\n",
    "    mean_std_per_field[i] /= len(dataset)"
   ]
  },
  {
   "cell_type": "code",
   "execution_count": 5,
   "metadata": {},
   "outputs": [
    {
     "name": "stdout",
     "output_type": "stream",
     "text": [
      "Field: Vx\n",
      "Max: 4.206423759460449\n",
      "Min: -4.465677261352539\n",
      "Mean: 3.985787741839886e-06\n",
      "Std: 0.7780172729492187\n",
      "\n",
      "Field: Vy\n",
      "Max: 4.17794942855835\n",
      "Min: -4.403666973114014\n",
      "Mean: -9.103563614189625e-06\n",
      "Std: 0.7804127807617187\n",
      "\n",
      "Field: density\n",
      "Max: 1.2293452024459839\n",
      "Min: 0.884306788444519\n",
      "Mean: 1.0\n",
      "Std: 0.02079853057861328\n",
      "\n",
      "Field: pressure\n",
      "Max: 84.73867797851562\n",
      "Min: 48.89590072631836\n",
      "Mean: 60.02755078125\n",
      "Std: 2.0841865234375\n",
      "\n"
     ]
    }
   ],
   "source": [
    "for i, field in enumerate(fields):\n",
    "    print('Field: {}'.format(field))\n",
    "    print('Max: {}'.format(max_per_field[i]))\n",
    "    print('Min: {}'.format(min_per_field[i]))\n",
    "    print('Mean: {}'.format(mean_per_field[i]))\n",
    "    print('Std: {}'.format(mean_std_per_field[i]))\n",
    "    print('')"
   ]
  },
  {
   "cell_type": "code",
   "execution_count": 6,
   "metadata": {},
   "outputs": [],
   "source": [
    "d = {}\n",
    "for i, field in enumerate(fields):\n",
    "    d[field] = {'max': max_per_field[i],\n",
    "                'min': min_per_field[i],\n",
    "                'mean': mean_per_field[i],\n",
    "                'std': mean_std_per_field[i]}\n",
    "with open(os.path.join(get_ceph_dir(), 'pdebench_misc', f'{dataset_name}_basic_stats.json'), 'w') as f:\n",
    "    json.dump(d, f, indent=4)"
   ]
  }
 ],
 "metadata": {
  "kernelspec": {
   "display_name": "videomae",
   "language": "python",
   "name": "python3"
  },
  "language_info": {
   "codemirror_mode": {
    "name": "ipython",
    "version": 3
   },
   "file_extension": ".py",
   "mimetype": "text/x-python",
   "name": "python",
   "nbconvert_exporter": "python",
   "pygments_lexer": "ipython3",
   "version": "3.10.10"
  },
  "orig_nbformat": 4
 },
 "nbformat": 4,
 "nbformat_minor": 2
}
